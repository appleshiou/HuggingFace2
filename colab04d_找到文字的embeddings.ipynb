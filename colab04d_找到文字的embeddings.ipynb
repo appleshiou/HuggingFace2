{
  "nbformat": 4,
  "nbformat_minor": 0,
  "metadata": {
    "colab": {
      "name": "colab04d 找到文字的 embeddings.ipynb",
      "provenance": [],
      "include_colab_link": true
    },
    "kernelspec": {
      "name": "python3",
      "display_name": "Python 3"
    },
    "language_info": {
      "name": "python"
    },
    "accelerator": "GPU"
  },
  "cells": [
    {
      "cell_type": "markdown",
      "metadata": {
        "id": "view-in-github",
        "colab_type": "text"
      },
      "source": [
        "<a href=\"https://colab.research.google.com/github/appleshiou/HuggingFace2/blob/main/colab04d_%E6%89%BE%E5%88%B0%E6%96%87%E5%AD%97%E7%9A%84embeddings.ipynb\" target=\"_parent\"><img src=\"https://colab.research.google.com/assets/colab-badge.svg\" alt=\"Open In Colab\"/></a>"
      ]
    },
    {
      "cell_type": "code",
      "source": [
        "%matplotlib inline\n",
        "\n",
        "import numpy as np\n",
        "import pandas as pd\n",
        "import matplotlib.pyplot as plt"
      ],
      "metadata": {
        "id": "wqRa8rTIQZWo"
      },
      "execution_count": null,
      "outputs": []
    },
    {
      "cell_type": "markdown",
      "source": [
        "## 1. 安裝 `transformers` 套件"
      ],
      "metadata": {
        "id": "I4ovKGl6QgoC"
      }
    },
    {
      "cell_type": "code",
      "metadata": {
        "colab": {
          "base_uri": "https://localhost:8080/"
        },
        "id": "1xUPAN9sSktg",
        "outputId": "e387e2e5-9e1d-4f66-9e6a-ac977d393b95"
      },
      "source": [
        "!pip install transformers"
      ],
      "execution_count": null,
      "outputs": [
        {
          "output_type": "stream",
          "name": "stdout",
          "text": [
            "Requirement already satisfied: transformers in /usr/local/lib/python3.7/dist-packages (4.19.1)\n",
            "Requirement already satisfied: pyyaml>=5.1 in /usr/local/lib/python3.7/dist-packages (from transformers) (6.0)\n",
            "Requirement already satisfied: tqdm>=4.27 in /usr/local/lib/python3.7/dist-packages (from transformers) (4.64.0)\n",
            "Requirement already satisfied: requests in /usr/local/lib/python3.7/dist-packages (from transformers) (2.23.0)\n",
            "Requirement already satisfied: tokenizers!=0.11.3,<0.13,>=0.11.1 in /usr/local/lib/python3.7/dist-packages (from transformers) (0.12.1)\n",
            "Requirement already satisfied: numpy>=1.17 in /usr/local/lib/python3.7/dist-packages (from transformers) (1.21.6)\n",
            "Requirement already satisfied: packaging>=20.0 in /usr/local/lib/python3.7/dist-packages (from transformers) (21.3)\n",
            "Requirement already satisfied: huggingface-hub<1.0,>=0.1.0 in /usr/local/lib/python3.7/dist-packages (from transformers) (0.6.0)\n",
            "Requirement already satisfied: regex!=2019.12.17 in /usr/local/lib/python3.7/dist-packages (from transformers) (2019.12.20)\n",
            "Requirement already satisfied: importlib-metadata in /usr/local/lib/python3.7/dist-packages (from transformers) (4.11.3)\n",
            "Requirement already satisfied: filelock in /usr/local/lib/python3.7/dist-packages (from transformers) (3.6.0)\n",
            "Requirement already satisfied: typing-extensions>=3.7.4.3 in /usr/local/lib/python3.7/dist-packages (from huggingface-hub<1.0,>=0.1.0->transformers) (4.2.0)\n",
            "Requirement already satisfied: pyparsing!=3.0.5,>=2.0.2 in /usr/local/lib/python3.7/dist-packages (from packaging>=20.0->transformers) (3.0.8)\n",
            "Requirement already satisfied: zipp>=0.5 in /usr/local/lib/python3.7/dist-packages (from importlib-metadata->transformers) (3.8.0)\n",
            "Requirement already satisfied: idna<3,>=2.5 in /usr/local/lib/python3.7/dist-packages (from requests->transformers) (2.10)\n",
            "Requirement already satisfied: chardet<4,>=3.0.2 in /usr/local/lib/python3.7/dist-packages (from requests->transformers) (3.0.4)\n",
            "Requirement already satisfied: certifi>=2017.4.17 in /usr/local/lib/python3.7/dist-packages (from requests->transformers) (2021.10.8)\n",
            "Requirement already satisfied: urllib3!=1.25.0,!=1.25.1,<1.26,>=1.21.1 in /usr/local/lib/python3.7/dist-packages (from requests->transformers) (1.24.3)\n"
          ]
        }
      ]
    },
    {
      "cell_type": "markdown",
      "source": [
        "## 2. 使用 Bert 的 Tokenizer"
      ],
      "metadata": {
        "id": "cBStewADQnu7"
      }
    },
    {
      "cell_type": "code",
      "metadata": {
        "id": "V8BlxHryJLI2"
      },
      "source": [
        "from transformers import BertTokenizer"
      ],
      "execution_count": null,
      "outputs": []
    },
    {
      "cell_type": "code",
      "metadata": {
        "id": "irgYsdzXJZyB"
      },
      "source": [
        "tokenizer = BertTokenizer.from_pretrained(\"bert-base-chinese\")"
      ],
      "execution_count": null,
      "outputs": []
    },
    {
      "cell_type": "markdown",
      "source": [
        "一句話來變成 BERT 編碼! 注意可以單一個句子, 也可以是多個句子!"
      ],
      "metadata": {
        "id": "z6FiJfe2Qtbd"
      }
    },
    {
      "cell_type": "code",
      "source": [
        "tokenizer(\"測試一下哦\")"
      ],
      "metadata": {
        "colab": {
          "base_uri": "https://localhost:8080/"
        },
        "id": "LNo2tzfpu8zM",
        "outputId": "bcb36b26-8c7f-47e7-98dc-7af857252505"
      },
      "execution_count": null,
      "outputs": [
        {
          "output_type": "execute_result",
          "data": {
            "text/plain": [
              "{'input_ids': [101, 3947, 6275, 671, 678, 1521, 102], 'token_type_ids': [0, 0, 0, 0, 0, 0, 0], 'attention_mask': [1, 1, 1, 1, 1, 1, 1]}"
            ]
          },
          "metadata": {},
          "execution_count": 5
        }
      ]
    },
    {
      "cell_type": "code",
      "metadata": {
        "colab": {
          "base_uri": "https://localhost:8080/"
        },
        "id": "9oCI7T3zJgRf",
        "outputId": "31149d65-c5cf-463b-f061-03d42dab18d6"
      },
      "source": [
        "tokenizer([\"測試一句話\"])"
      ],
      "execution_count": null,
      "outputs": [
        {
          "output_type": "execute_result",
          "data": {
            "text/plain": [
              "{'input_ids': [[101, 3947, 6275, 671, 1368, 6282, 102]], 'token_type_ids': [[0, 0, 0, 0, 0, 0, 0]], 'attention_mask': [[1, 1, 1, 1, 1, 1, 1]]}"
            ]
          },
          "metadata": {},
          "execution_count": 6
        }
      ]
    },
    {
      "cell_type": "markdown",
      "source": [
        "我們可以看出這是一個字、一個字切的。"
      ],
      "metadata": {
        "id": "BI8i5IlnQ3al"
      }
    },
    {
      "cell_type": "code",
      "metadata": {
        "colab": {
          "base_uri": "https://localhost:8080/"
        },
        "id": "1tFDmuYEJosw",
        "outputId": "2c9081dd-a559-4fee-e0ba-5744f0823679"
      },
      "source": [
        "tokenizer.tokenize(\"測試一句話\")"
      ],
      "execution_count": null,
      "outputs": [
        {
          "output_type": "execute_result",
          "data": {
            "text/plain": [
              "['測', '試', '一', '句', '話']"
            ]
          },
          "metadata": {},
          "execution_count": 7
        }
      ]
    },
    {
      "cell_type": "markdown",
      "source": [
        "從數字再變回文字, 看看要送進 BERT 的長什麼樣子!"
      ],
      "metadata": {
        "id": "iuJ9n3JnKye4"
      }
    },
    {
      "cell_type": "code",
      "metadata": {
        "colab": {
          "base_uri": "https://localhost:8080/"
        },
        "id": "mvQkRJ8rKLXc",
        "outputId": "d3562f5a-1a27-4ddd-e493-b4fb997e1d29"
      },
      "source": [
        "tokenizer.convert_ids_to_tokens([101, 3947, 6275, 671, 1368, 6282, 102])"
      ],
      "execution_count": null,
      "outputs": [
        {
          "output_type": "execute_result",
          "data": {
            "text/plain": [
              "['[CLS]', '測', '試', '一', '句', '話', '[SEP]']"
            ]
          },
          "metadata": {},
          "execution_count": 8
        }
      ]
    },
    {
      "cell_type": "markdown",
      "source": [
        "我們可以看出 101 是代表 `[CLS]`, 102 代表 `[SEP]`。\n",
        "\n"
      ],
      "metadata": {
        "id": "V5thbcQIvlhZ"
      }
    },
    {
      "cell_type": "code",
      "metadata": {
        "colab": {
          "base_uri": "https://localhost:8080/"
        },
        "id": "lyRMkVHvKcWx",
        "outputId": "ad8e30e0-3bff-49c7-a736-88e863220c52"
      },
      "source": [
        "tokenizer.convert_ids_to_tokens([3947, 6275, 671, 1368, 6282])"
      ],
      "execution_count": null,
      "outputs": [
        {
          "output_type": "execute_result",
          "data": {
            "text/plain": [
              "['測', '試', '一', '句', '話']"
            ]
          },
          "metadata": {},
          "execution_count": 9
        }
      ]
    },
    {
      "cell_type": "markdown",
      "source": [
        "一次好幾句的試驗!"
      ],
      "metadata": {
        "id": "3O3QhJmpXsbF"
      }
    },
    {
      "cell_type": "code",
      "metadata": {
        "colab": {
          "base_uri": "https://localhost:8080/"
        },
        "id": "LsuXSjj6K7Y4",
        "outputId": "f2e6130f-eb0c-49d4-dbf8-61bfc545b38f"
      },
      "source": [
        "tokenizer([\"測試一句話\", \"中間夾。\", \"也許這樣吧。\", \"買iPhone。\"])"
      ],
      "execution_count": null,
      "outputs": [
        {
          "output_type": "execute_result",
          "data": {
            "text/plain": [
              "{'input_ids': [[101, 3947, 6275, 671, 1368, 6282, 102], [101, 704, 7279, 1933, 511, 102], [101, 738, 6258, 6857, 3564, 1416, 511, 102], [101, 6525, 100, 511, 102]], 'token_type_ids': [[0, 0, 0, 0, 0, 0, 0], [0, 0, 0, 0, 0, 0], [0, 0, 0, 0, 0, 0, 0, 0], [0, 0, 0, 0, 0]], 'attention_mask': [[1, 1, 1, 1, 1, 1, 1], [1, 1, 1, 1, 1, 1], [1, 1, 1, 1, 1, 1, 1, 1], [1, 1, 1, 1, 1]]}"
            ]
          },
          "metadata": {},
          "execution_count": 10
        }
      ]
    },
    {
      "cell_type": "code",
      "metadata": {
        "colab": {
          "base_uri": "https://localhost:8080/"
        },
        "id": "iZJ8HvStLNxL",
        "outputId": "5db8042b-0342-42ba-92f7-e9bc47d95221"
      },
      "source": [
        "tokenizer([\"abc\", \"David\", \"蘋果Apple\"])"
      ],
      "execution_count": null,
      "outputs": [
        {
          "output_type": "execute_result",
          "data": {
            "text/plain": [
              "{'input_ids': [[101, 8425, 102], [101, 100, 102], [101, 5981, 3362, 100, 102]], 'token_type_ids': [[0, 0, 0], [0, 0, 0], [0, 0, 0, 0, 0]], 'attention_mask': [[1, 1, 1], [1, 1, 1], [1, 1, 1, 1, 1]]}"
            ]
          },
          "metadata": {},
          "execution_count": 11
        }
      ]
    },
    {
      "cell_type": "code",
      "metadata": {
        "colab": {
          "base_uri": "https://localhost:8080/"
        },
        "id": "-LwD5NR4LshN",
        "outputId": "aa7133b5-cae2-45c5-a081-0b6d468d9c74"
      },
      "source": [
        "tokenizer.convert_ids_to_tokens([8425,8776,8350])"
      ],
      "execution_count": null,
      "outputs": [
        {
          "output_type": "execute_result",
          "data": {
            "text/plain": [
              "['abc', 'david', 'apple']"
            ]
          },
          "metadata": {},
          "execution_count": 12
        }
      ]
    },
    {
      "cell_type": "markdown",
      "source": [
        "## 3. 找到文字的 embedding\n",
        "\n",
        "這次我們用更有彈性的 `AutoTokenizer`, 未來你用別的 `model` 時可能會用到的。"
      ],
      "metadata": {
        "id": "j069FAMZL5jx"
      }
    },
    {
      "cell_type": "code",
      "source": [
        "from transformers import AutoTokenizer"
      ],
      "metadata": {
        "id": "40-6FKvaSLeK"
      },
      "execution_count": null,
      "outputs": []
    },
    {
      "cell_type": "code",
      "source": [
        "checkpoint = \"bert-base-chinese\""
      ],
      "metadata": {
        "id": "eDla_wgdSUnp"
      },
      "execution_count": null,
      "outputs": []
    },
    {
      "cell_type": "code",
      "source": [
        "tokenizer2 = AutoTokenizer.from_pretrained(checkpoint)"
      ],
      "metadata": {
        "id": "UTCSRN20Scuh"
      },
      "execution_count": null,
      "outputs": []
    },
    {
      "cell_type": "markdown",
      "source": [
        "注意這和上一個 `tokenizer` 基本上是完全一樣的!"
      ],
      "metadata": {
        "id": "w1kLfwkWwYLp"
      }
    },
    {
      "cell_type": "code",
      "source": [
        "sequence = \"我想看看這會變成什麼\""
      ],
      "metadata": {
        "id": "ZeKU9ffSSfuu"
      },
      "execution_count": null,
      "outputs": []
    },
    {
      "cell_type": "code",
      "source": [
        "model_inp = tokenizer2(sequence)"
      ],
      "metadata": {
        "id": "smrDNQTfSlgj"
      },
      "execution_count": null,
      "outputs": []
    },
    {
      "cell_type": "code",
      "source": [
        "model_inp"
      ],
      "metadata": {
        "colab": {
          "base_uri": "https://localhost:8080/"
        },
        "id": "jrAkc9pcwweE",
        "outputId": "3b778227-0325-4937-f76c-193573509b3c"
      },
      "execution_count": null,
      "outputs": [
        {
          "output_type": "execute_result",
          "data": {
            "text/plain": [
              "{'input_ids': [101, 2769, 2682, 4692, 4692, 6857, 3298, 6365, 2768, 784, 7938, 102], 'token_type_ids': [0, 0, 0, 0, 0, 0, 0, 0, 0, 0, 0, 0], 'attention_mask': [1, 1, 1, 1, 1, 1, 1, 1, 1, 1, 1, 1]}"
            ]
          },
          "metadata": {},
          "execution_count": 19
        }
      ]
    },
    {
      "cell_type": "markdown",
      "source": [
        "可以看到基本上就是一樣的!!"
      ],
      "metadata": {
        "id": "Ni4UrDGrwyEO"
      }
    },
    {
      "cell_type": "code",
      "source": [
        "model_inp[\"input_ids\"]"
      ],
      "metadata": {
        "colab": {
          "base_uri": "https://localhost:8080/"
        },
        "id": "1xc1QzmUSoZN",
        "outputId": "f5aa38e8-d009-4d9f-d4fb-eca1bc0d45d2"
      },
      "execution_count": null,
      "outputs": [
        {
          "output_type": "execute_result",
          "data": {
            "text/plain": [
              "[101, 2769, 2682, 4692, 4692, 6857, 3298, 6365, 2768, 784, 7938, 102]"
            ]
          },
          "metadata": {},
          "execution_count": 20
        }
      ]
    },
    {
      "cell_type": "markdown",
      "source": [
        "把 BERT 找來吧!!"
      ],
      "metadata": {
        "id": "9Vp67u8gw56I"
      }
    },
    {
      "cell_type": "code",
      "source": [
        "from transformers import TFBertModel"
      ],
      "metadata": {
        "id": "ZQtPK1dnS5xg"
      },
      "execution_count": null,
      "outputs": []
    },
    {
      "cell_type": "code",
      "source": [
        "model = TFBertModel.from_pretrained(checkpoint)"
      ],
      "metadata": {
        "colab": {
          "base_uri": "https://localhost:8080/"
        },
        "id": "FQWuU5h2U2II",
        "outputId": "d824cf7b-aa95-47be-d2ba-6394786ac10e"
      },
      "execution_count": null,
      "outputs": [
        {
          "output_type": "stream",
          "name": "stderr",
          "text": [
            "Some layers from the model checkpoint at bert-base-chinese were not used when initializing TFBertModel: ['nsp___cls', 'mlm___cls']\n",
            "- This IS expected if you are initializing TFBertModel from the checkpoint of a model trained on another task or with another architecture (e.g. initializing a BertForSequenceClassification model from a BertForPreTraining model).\n",
            "- This IS NOT expected if you are initializing TFBertModel from the checkpoint of a model that you expect to be exactly identical (initializing a BertForSequenceClassification model from a BertForSequenceClassification model).\n",
            "All the layers of TFBertModel were initialized from the model checkpoint at bert-base-chinese.\n",
            "If your task is similar to the task the model of the checkpoint was trained on, you can already use TFBertModel for predictions without further training.\n"
          ]
        }
      ]
    },
    {
      "cell_type": "markdown",
      "source": [
        "把 model_inp 轉成 TensorFlow 接受的輸入。"
      ],
      "metadata": {
        "id": "fJObMzw6xfae"
      }
    },
    {
      "cell_type": "code",
      "source": [
        "import tensorflow as tf"
      ],
      "metadata": {
        "id": "kkLOCS42U5qJ"
      },
      "execution_count": null,
      "outputs": []
    },
    {
      "cell_type": "code",
      "source": [
        "model_inputs = tf.constant([model_inp[\"input_ids\"]])"
      ],
      "metadata": {
        "id": "WiVsOCffVL0O"
      },
      "execution_count": null,
      "outputs": []
    },
    {
      "cell_type": "code",
      "source": [
        "model_inputs"
      ],
      "metadata": {
        "colab": {
          "base_uri": "https://localhost:8080/"
        },
        "id": "4HQ7-U8LVqoo",
        "outputId": "c49a3f8e-ef38-41c6-bb43-1859e8856681"
      },
      "execution_count": null,
      "outputs": [
        {
          "output_type": "execute_result",
          "data": {
            "text/plain": [
              "<tf.Tensor: shape=(1, 12), dtype=int32, numpy=\n",
              "array([[ 101, 2769, 2682, 4692, 4692, 6857, 3298, 6365, 2768,  784, 7938,\n",
              "         102]], dtype=int32)>"
            ]
          },
          "metadata": {},
          "execution_count": 26
        }
      ]
    },
    {
      "cell_type": "code",
      "source": [
        "output = model(model_inputs)"
      ],
      "metadata": {
        "id": "-IcA84UkVsHh"
      },
      "execution_count": null,
      "outputs": []
    },
    {
      "cell_type": "markdown",
      "source": [
        "來看看 output 長什麼樣子!"
      ],
      "metadata": {
        "id": "kQqLkULwyZG0"
      }
    },
    {
      "cell_type": "code",
      "source": [
        "output"
      ],
      "metadata": {
        "colab": {
          "base_uri": "https://localhost:8080/"
        },
        "id": "pMKNCLZ-ydDM",
        "outputId": "3ea6080a-e82d-4002-b359-e96e30bfab7e"
      },
      "execution_count": null,
      "outputs": [
        {
          "output_type": "execute_result",
          "data": {
            "text/plain": [
              "TFBaseModelOutputWithPoolingAndCrossAttentions([('last_hidden_state',\n",
              "                                                 <tf.Tensor: shape=(1, 12, 768), dtype=float32, numpy=\n",
              "                                                 array([[[-0.299048  ,  0.45682305,  0.5829431 , ...,  0.25641617,\n",
              "                                                           0.21600437, -0.33521703],\n",
              "                                                         [ 0.27438423, -0.16981234,  0.7077313 , ..., -0.9895742 ,\n",
              "                                                          -0.42360958, -0.16366687],\n",
              "                                                         [-0.21923515, -0.5830589 , -1.0193688 , ..., -0.07433864,\n",
              "                                                           0.87813926, -0.19414367],\n",
              "                                                         ...,\n",
              "                                                         [ 0.17810795, -0.17334643,  0.25140914, ...,  0.3847427 ,\n",
              "                                                          -0.09988672, -0.2767766 ],\n",
              "                                                         [ 0.44689083,  0.48839512,  0.52651215, ..., -0.11707255,\n",
              "                                                           0.4660459 , -0.14046808],\n",
              "                                                         [-0.6728222 ,  0.21168761,  0.72463286, ..., -0.75098574,\n",
              "                                                          -0.01720798, -0.1501956 ]]], dtype=float32)>),\n",
              "                                                ('pooler_output',\n",
              "                                                 <tf.Tensor: shape=(1, 768), dtype=float32, numpy=\n",
              "                                                 array([[ 0.9996148 ,  0.99999964,  0.749938  ,  0.9985831 ,  0.9204984 ,\n",
              "                                                          0.9788832 , -0.9947906 , -0.26670253,  0.99868584, -0.9965805 ,\n",
              "                                                          0.9999975 , -0.00648441, -0.78179485, -0.9894251 ,  0.9998226 ,\n",
              "                                                         -0.9998771 , -0.9798794 ,  0.99950945,  0.97911805,  0.04985126,\n",
              "                                                          0.99999636, -0.9999982 , -0.9946458 ,  0.89748055,  0.80349827,\n",
              "                                                          0.9991927 ,  0.99420905, -0.03833367, -0.9999985 ,  0.92976934,\n",
              "                                                          0.9949483 ,  0.99883884,  0.9286047 , -0.9999995 , -0.9994721 ,\n",
              "                                                          0.5025928 , -0.78849864,  0.9918867 , -0.5311596 , -0.99941593,\n",
              "                                                         -0.9773303 , -0.9824866 ,  0.95063514, -0.9567352 , -0.99130607,\n",
              "                                                          0.29422486, -1.        , -0.9999665 ,  0.8192413 ,  0.99999833,\n",
              "                                                         -0.7964615 , -0.9997975 , -0.96291983,  0.9537871 , -0.28773898,\n",
              "                                                          0.9451238 , -0.99986637,  0.99259573,  1.        ,  0.99171805,\n",
              "                                                          0.99946314, -0.99786025,  0.9664406 , -0.9997719 ,  0.9999927 ,\n",
              "                                                         -0.99696803, -0.94535965,  0.9908908 ,  0.99999905,  0.9999961 ,\n",
              "                                                          0.9230814 ,  0.998183  ,  0.9999972 ,  0.97596085,  0.69068146,\n",
              "                                                         -0.3514588 , -0.9995208 ,  0.8148718 , -0.9999975 , -0.38618058,\n",
              "                                                          0.9999984 ,  0.99723727, -0.96410507,  0.9589591 , -0.9847511 ,\n",
              "                                                         -0.99995905, -0.9999989 ,  0.99991703, -0.88290423,  0.99524856,\n",
              "                                                          0.9998963 , -0.9990811 , -0.9999984 ,  0.99961376, -0.9993689 ,\n",
              "                                                         -0.9996405 , -0.99772656,  0.9987787 , -0.96940404,  0.71409297,\n",
              "                                                         -0.47936776,  0.9783521 ,  0.40208027, -0.22635137,  0.9982624 ,\n",
              "                                                          0.99125373, -0.34786588, -0.99921775,  0.9999873 ,  0.9133362 ,\n",
              "                                                         -1.        , -0.44170475, -0.2916869 , -0.48757794, -0.9427163 ,\n",
              "                                                          0.9996813 , -0.4264892 , -0.9901922 ,  0.9887168 ,  0.0356418 ,\n",
              "                                                          0.5201509 , -0.9984606 , -0.9984192 , -0.9878404 ,  0.99721605,\n",
              "                                                          0.9999465 ,  0.9410695 , -0.9999847 ,  0.14743696,  0.99999213,\n",
              "                                                          0.9812372 ,  0.99642175, -0.9414691 ,  0.94362104,  0.99445224,\n",
              "                                                         -0.99800867,  0.8869817 , -0.79543144,  0.9999993 ,  0.9982991 ,\n",
              "                                                          0.9966857 , -0.99823207,  0.9999531 , -0.99895304,  0.9999787 ,\n",
              "                                                         -0.99994344,  0.9947721 , -0.9999874 , -0.9998987 ,  0.9999606 ,\n",
              "                                                          0.99798125,  0.99999917, -0.9832132 ,  1.        , -0.99865603,\n",
              "                                                         -0.99983966,  0.99988204,  0.99561614,  0.99921554, -0.99996483,\n",
              "                                                          0.99964815, -0.14322536, -0.21152796,  0.41561764, -1.        ,\n",
              "                                                          0.99993294, -0.5881924 ,  0.9999954 ,  0.9953877 , -0.997777  ,\n",
              "                                                         -0.9326902 , -0.99904406,  0.9796058 , -0.99879247, -0.99986196,\n",
              "                                                          0.9860695 ,  0.9511783 ,  0.9941651 , -0.9998499 , -0.9151343 ,\n",
              "                                                          0.9828809 , -0.9896755 , -1.        ,  0.9949704 ,  0.26172066,\n",
              "                                                          0.99813825,  0.9933485 , -0.8949072 ,  0.93621564,  0.99521214,\n",
              "                                                          0.12991773,  0.9999362 , -0.2093325 ,  0.97193307,  0.99976903,\n",
              "                                                         -0.2540053 , -0.9950734 , -0.9951574 , -0.9999949 , -0.55043364,\n",
              "                                                          0.9999996 , -0.6283289 , -0.99218655,  0.99443877, -0.99999076,\n",
              "                                                          0.6652281 , -0.99613017, -0.99137014, -0.9905363 , -0.9999927 ,\n",
              "                                                          0.9995142 , -0.90327626, -0.9914439 ,  0.92183834, -0.9361692 ,\n",
              "                                                         -0.4970754 , -0.999715  ,  0.79401404,  0.98480386,  0.8193359 ,\n",
              "                                                          0.58328545, -0.9612574 , -0.99996775,  0.99346155, -0.99573165,\n",
              "                                                         -0.96350855,  0.99984646,  0.9999985 ,  0.9842868 ,  0.6965654 ,\n",
              "                                                          0.9417149 ,  0.37941206,  0.952789  , -1.        ,  0.9850673 ,\n",
              "                                                         -0.99738675, -0.9957726 ,  0.99993455, -0.9947564 ,  0.99740165,\n",
              "                                                          0.999984  ,  0.9986461 ,  0.9999995 , -0.99750155, -0.99700356,\n",
              "                                                         -0.99840605,  0.9999985 ,  0.9962547 ,  0.9999217 , -0.9994464 ,\n",
              "                                                         -0.9999908 ,  0.8566544 , -0.92979246, -0.9999953 , -0.9999954 ,\n",
              "                                                         -0.8684155 ,  0.9968159 ,  0.99988353,  0.96320117, -0.9963446 ,\n",
              "                                                         -0.971037  , -0.99709916,  0.9999868 , -0.9922756 ,  0.9999951 ,\n",
              "                                                          0.96632016, -0.9969979 , -0.99959266,  0.7146683 , -0.9958574 ,\n",
              "                                                         -0.998225  ,  0.00888468, -0.9999988 , -0.98799115, -0.9999609 ,\n",
              "                                                          0.9994427 , -0.9996844 , -0.99999833,  0.83941025,  0.99998516,\n",
              "                                                          0.89352876, -1.        ,  0.9938741 ,  0.999948  , -0.9839728 ,\n",
              "                                                         -0.99243   ,  0.97913826, -0.99999934,  0.99999905, -0.9990104 ,\n",
              "                                                          0.8869293 , -0.7929553 , -0.97098607, -0.7981933 ,  0.9999819 ,\n",
              "                                                          0.9997042 ,  0.3182011 , -0.76058716, -0.9388484 , -0.99972814,\n",
              "                                                          0.30402797,  0.9996765 , -0.9886801 ,  0.9523895 , -0.3178648 ,\n",
              "                                                         -0.9973038 ,  0.99379694, -0.9998229 , -0.99900687,  0.27139908,\n",
              "                                                          0.9999984 , -0.85519826,  0.9999996 ,  0.9991832 ,  0.9999995 ,\n",
              "                                                          0.999095  , -0.9985784 ,  0.9955913 , -0.38906863, -0.9190499 ,\n",
              "                                                         -0.96381295, -0.98763436,  0.9699193 ,  0.59505963, -0.9442092 ,\n",
              "                                                         -0.9990642 ,  0.99999934,  0.99995756,  0.99377996,  0.9854262 ,\n",
              "                                                         -0.9823126 ,  0.55153674,  0.978528  , -0.9607322 ,  0.9941463 ,\n",
              "                                                         -0.9995608 , -0.91661227,  0.9966588 ,  0.99998873,  0.9995499 ,\n",
              "                                                          0.44737196, -0.7225535 ,  0.99999124, -0.9216999 ,  0.999351  ,\n",
              "                                                         -0.99855983,  0.99967706, -0.99925387,  0.97714597, -0.9613226 ,\n",
              "                                                         -0.98498464,  0.99999   ,  0.9795485 , -0.9655519 ,  0.99916863,\n",
              "                                                         -0.99509895,  0.9999378 ,  0.99891   ,  0.9993604 ,  0.9939867 ,\n",
              "                                                          0.94705284,  0.9999884 , -0.01215179, -0.80907327, -0.9992569 ,\n",
              "                                                         -0.9919092 , -0.99163127, -0.9999976 ,  0.9382096 , -0.99945587,\n",
              "                                                         -0.9114232 , -0.9341649 ,  0.926207  ,  0.98314756, -0.9932075 ,\n",
              "                                                          0.7171681 , -0.9519487 ,  0.48683482, -0.99665415, -0.07066979,\n",
              "                                                          0.99317056, -0.9914139 , -0.975583  , -0.99998784, -0.98581904,\n",
              "                                                          0.96014977,  0.9999988 , -0.99999845,  0.5118095 , -0.9999378 ,\n",
              "                                                         -0.98824376,  0.9833577 , -0.87494844, -0.8543645 ,  0.999569  ,\n",
              "                                                         -0.99999964, -0.88839084,  0.99991584,  1.        ,  0.9904098 ,\n",
              "                                                          0.9999976 ,  0.6065128 , -0.99995726, -0.9999949 , -0.9999997 ,\n",
              "                                                         -0.9999953 , -0.9992438 ,  0.09684574,  0.35460865, -0.9999889 ,\n",
              "                                                         -0.9294731 ,  0.8049795 ,  0.99999636,  0.99470896, -0.99908763,\n",
              "                                                         -0.93194604, -0.9840576 , -0.9961785 ,  0.33882958, -0.9975403 ,\n",
              "                                                         -0.9983094 ,  0.99977106, -0.465996  ,  0.9999722 , -0.9784585 ,\n",
              "                                                          0.9998712 ,  0.99817854,  0.7051551 ,  0.9835705 , -0.9999259 ,\n",
              "                                                          0.9733497 ,  0.9999923 ,  0.94679034, -0.999984  , -0.9004367 ,\n",
              "                                                         -0.96282786, -0.99994767, -0.20119986,  0.7961529 ,  0.999702  ,\n",
              "                                                         -0.9999997 , -0.6835061 , -0.9172606 ,  0.4021446 ,  0.9787853 ,\n",
              "                                                          0.99983793,  0.99909616,  0.99296534,  0.9819427 ,  0.99346524,\n",
              "                                                          0.8886838 ,  0.9999987 ,  0.43385702, -0.9963873 ,  0.95899916,\n",
              "                                                          0.92542607,  0.34413382, -0.16380306,  0.9903301 ,  0.2701538 ,\n",
              "                                                          1.        ,  0.99979925, -0.9235665 , -0.99598217, -0.999898  ,\n",
              "                                                          0.90883505,  0.9999971 , -0.99339944, -0.68131906, -0.9975608 ,\n",
              "                                                         -0.9999638 , -0.9945477 , -0.87046695,  0.53316635, -0.95431954,\n",
              "                                                         -0.998585  ,  0.64631176,  0.94064415,  0.9999986 ,  0.99999976,\n",
              "                                                          0.9999482 , -0.9833827 , -0.56782913,  0.99164915, -0.56966347,\n",
              "                                                          0.99498326, -0.9307248 , -0.9999994 , -0.98978376, -0.9998532 ,\n",
              "                                                          0.9999971 , -0.641548  , -0.92181987, -0.39122906,  0.299908  ,\n",
              "                                                          0.95041764, -0.9999593 , -0.9723437 , -0.99945223,  0.68427384,\n",
              "                                                          0.9999969 , -0.999985  ,  0.9985512 , -0.99533314,  0.36809006,\n",
              "                                                          0.44772103,  0.93859684,  0.99223846, -0.9894143 , -0.89526   ,\n",
              "                                                         -0.5024207 , -0.54621935,  0.9997999 ,  0.99341613, -0.99983567,\n",
              "                                                          0.78985566,  0.97202635, -0.99177957,  0.9998337 ,  0.40014058,\n",
              "                                                          0.9401221 ,  0.9858321 ,  0.9999946 ,  0.9863328 ,  0.99999803,\n",
              "                                                          0.99764425,  0.9999575 ,  0.99988997, -0.96674603,  0.85945576,\n",
              "                                                          0.83392876, -0.98368096, -0.3719583 ,  0.9949629 ,  0.9999474 ,\n",
              "                                                         -0.9128414 , -0.9972532 , -0.999571  ,  0.99996144,  0.99999726,\n",
              "                                                          0.99999976, -0.928841  ,  0.9683287 , -0.9780368 ,  0.9930787 ,\n",
              "                                                          0.825385  ,  0.6652279 , -0.23778947,  0.49574256,  0.9999329 ,\n",
              "                                                          0.95158446, -0.99997026, -0.9999399 , -1.        ,  0.99999803,\n",
              "                                                          0.9987714 , -0.93635416, -0.9999996 ,  0.9970639 , -0.98672706,\n",
              "                                                          0.99702394,  0.9876417 ,  0.9702686 , -0.99966127,  0.95722985,\n",
              "                                                         -0.9977539 , -0.00165024, -0.14946117,  0.52226764,  0.8754009 ,\n",
              "                                                          0.99421173, -0.99940103,  0.919045  ,  0.9999889 , -0.81466377,\n",
              "                                                          0.99999917,  0.24369821, -0.99995756,  0.99998814, -0.9997002 ,\n",
              "                                                         -0.9997671 ,  0.00534709,  0.9999984 ,  0.99921376,  0.97335106,\n",
              "                                                         -0.96893656,  0.9997152 , -0.99999404,  0.9999261 , -0.999929  ,\n",
              "                                                         -0.97271943, -0.99518776,  0.99978805, -0.99438274, -0.9988244 ,\n",
              "                                                         -0.98450905,  0.9811337 ,  0.9985288 , -0.3698675 ,  0.9999829 ,\n",
              "                                                         -0.8561673 , -0.9964859 , -0.52058464, -0.9984825 , -0.9961755 ,\n",
              "                                                         -0.97166216, -0.9853534 , -1.        ,  0.96575975,  0.9229145 ,\n",
              "                                                         -0.9616489 , -0.9990876 , -1.        ,  0.9999571 , -0.98166144,\n",
              "                                                         -0.99448866,  0.99996674, -0.99952817, -0.9999986 ,  0.9990153 ,\n",
              "                                                         -0.9903357 ,  0.9778481 ,  0.98730916,  0.8866875 , -0.07757344,\n",
              "                                                         -0.9998829 ,  0.9444602 ,  0.9999991 ,  0.2641448 , -0.982305  ,\n",
              "                                                         -0.9380444 , -0.9893667 ,  0.9945894 ,  0.9799271 ,  0.9990762 ,\n",
              "                                                         -0.63683116,  0.70058227,  0.96317106,  0.98237693, -0.9856928 ,\n",
              "                                                          0.725954  , -0.99924177, -0.99920905, -0.9985799 ,  0.4754918 ,\n",
              "                                                         -0.9999985 , -0.9999717 ,  0.9999995 ,  0.9999957 ,  0.99999976,\n",
              "                                                         -0.9874111 , -0.8328719 ,  0.88410753,  0.99406075, -0.9997726 ,\n",
              "                                                         -0.97811294,  0.9317347 ,  0.98228174,  0.9774724 , -0.9967243 ,\n",
              "                                                         -0.94743425, -0.9999901 , -0.96994656,  0.0200958 , -0.9846496 ,\n",
              "                                                          0.9937253 ,  0.99999225,  0.9987721 , -0.99983555, -0.9608734 ,\n",
              "                                                         -0.09490851, -0.99978405,  0.99979097,  0.9984361 ,  0.99008805,\n",
              "                                                         -0.9964239 , -0.11579118,  0.92165387,  0.7198678 , -0.95465636,\n",
              "                                                         -0.9994358 , -0.7130347 , -0.9999984 ,  0.94737726, -0.98729014,\n",
              "                                                         -0.9999995 ,  0.99586695,  0.9999994 ,  0.9031046 , -0.9999795 ,\n",
              "                                                         -0.7845458 ,  0.99999917,  0.37449104,  0.9999994 ,  0.9920314 ,\n",
              "                                                          0.99975103, -0.9886499 ,  0.9983573 , -0.99907714,  0.999991  ,\n",
              "                                                         -0.99999404,  0.9999905 ,  0.9999691 ,  0.9990679 ,  0.9659063 ,\n",
              "                                                         -0.9874655 ,  0.9992216 , -0.95376617,  0.6144845 ,  0.9699276 ,\n",
              "                                                         -0.218792  , -0.99020946,  0.9600068 , -0.33218428, -0.9963876 ,\n",
              "                                                          0.9999967 ,  0.96192837, -0.8775228 ,  0.9677706 ,  0.97887605,\n",
              "                                                          0.9972723 ,  0.6909726 , -0.45733336,  0.99958134,  0.9999595 ,\n",
              "                                                          0.99324954,  0.9999939 ,  0.8055592 ,  1.        , -0.5601649 ,\n",
              "                                                         -0.9959662 ,  0.99962944,  0.21976747, -0.6655964 , -0.999996  ,\n",
              "                                                          0.9999606 ,  0.2216588 , -0.9999946 , -0.99353296, -0.24364322,\n",
              "                                                          0.6488986 ,  0.99999934,  0.99613947,  0.99847937,  0.99654573,\n",
              "                                                          0.9804405 ,  0.99760336, -0.2509276 ,  0.9462838 , -0.9999912 ,\n",
              "                                                         -0.98756176,  1.        , -0.99962956,  0.9995719 , -0.9808985 ,\n",
              "                                                          0.12338813, -0.99990535,  0.6966184 , -0.33768806,  0.8945126 ,\n",
              "                                                         -0.99859726,  0.99999213,  0.9409437 , -0.9833341 , -0.99634767,\n",
              "                                                         -0.98623323, -0.999242  ,  0.8086521 ]], dtype=float32)>)])"
            ]
          },
          "metadata": {},
          "execution_count": 28
        }
      ]
    },
    {
      "cell_type": "markdown",
      "source": [
        "發現我們要的東西是 `last_hidden_state`。"
      ],
      "metadata": {
        "id": "fbunH5r3ytEO"
      }
    },
    {
      "cell_type": "code",
      "source": [
        "output['last_hidden_state']"
      ],
      "metadata": {
        "colab": {
          "base_uri": "https://localhost:8080/"
        },
        "id": "vf2KmKo_y0iz",
        "outputId": "faec3e7d-7bfa-4b66-a4de-d68b28cd397a"
      },
      "execution_count": null,
      "outputs": [
        {
          "output_type": "execute_result",
          "data": {
            "text/plain": [
              "<tf.Tensor: shape=(1, 12, 768), dtype=float32, numpy=\n",
              "array([[[-0.299048  ,  0.45682305,  0.5829431 , ...,  0.25641617,\n",
              "          0.21600437, -0.33521703],\n",
              "        [ 0.27438423, -0.16981234,  0.7077313 , ..., -0.9895742 ,\n",
              "         -0.42360958, -0.16366687],\n",
              "        [-0.21923515, -0.5830589 , -1.0193688 , ..., -0.07433864,\n",
              "          0.87813926, -0.19414367],\n",
              "        ...,\n",
              "        [ 0.17810795, -0.17334643,  0.25140914, ...,  0.3847427 ,\n",
              "         -0.09988672, -0.2767766 ],\n",
              "        [ 0.44689083,  0.48839512,  0.52651215, ..., -0.11707255,\n",
              "          0.4660459 , -0.14046808],\n",
              "        [-0.6728222 ,  0.21168761,  0.72463286, ..., -0.75098574,\n",
              "         -0.01720798, -0.1501956 ]]], dtype=float32)>"
            ]
          },
          "metadata": {},
          "execution_count": 30
        }
      ]
    },
    {
      "cell_type": "markdown",
      "source": [
        "真正的數值部份是在 `numpy` 裡, 看一下下長什麼樣子。"
      ],
      "metadata": {
        "id": "lZLLSemCy8ge"
      }
    },
    {
      "cell_type": "code",
      "source": [
        "output['last_hidden_state'].numpy().shape"
      ],
      "metadata": {
        "colab": {
          "base_uri": "https://localhost:8080/"
        },
        "id": "7PBcOCAZzEar",
        "outputId": "40a28dda-2f79-4acf-ab91-45a22db39de2"
      },
      "execution_count": null,
      "outputs": [
        {
          "output_type": "execute_result",
          "data": {
            "text/plain": [
              "(1, 12, 768)"
            ]
          },
          "metadata": {},
          "execution_count": 31
        }
      ]
    },
    {
      "cell_type": "markdown",
      "source": [
        "結果輸出是 1 個, 有輸入 12 個 token 最後的代表向量, 每個都 768 維。我們想要 `[CLS]` 最終的那 768 維代表向量。"
      ],
      "metadata": {
        "id": "TaI153a7zHdi"
      }
    },
    {
      "cell_type": "code",
      "source": [
        "h = output['last_hidden_state'].numpy()[0][0]"
      ],
      "metadata": {
        "id": "DKK6c1ViVxa8"
      },
      "execution_count": null,
      "outputs": []
    },
    {
      "cell_type": "code",
      "source": [
        "h"
      ],
      "metadata": {
        "colab": {
          "base_uri": "https://localhost:8080/"
        },
        "id": "oFea0wDEymY8",
        "outputId": "b53a6137-163e-498d-baef-723f0547d4f9"
      },
      "execution_count": null,
      "outputs": [
        {
          "output_type": "execute_result",
          "data": {
            "text/plain": [
              "array([-2.99048007e-01,  4.56823051e-01,  5.82943082e-01, -4.11516964e-01,\n",
              "       -1.71039820e-01, -4.91626292e-01, -6.47809148e-01, -5.26151180e-01,\n",
              "       -4.55655694e-01,  4.39405113e-01,  3.13840002e-01,  3.97040337e-01,\n",
              "        2.57390112e-01, -7.44233787e-01,  1.57073975e+00, -6.02495432e-01,\n",
              "        3.26073140e-01, -1.29350936e+00,  4.72841889e-01, -2.41677999e-01,\n",
              "       -3.53348821e-01,  3.60392094e-01, -3.66648644e-01, -5.83259344e-01,\n",
              "        2.78585523e-01,  5.10834813e-01, -1.07827701e-01, -6.50267527e-02,\n",
              "        4.87270892e-01,  6.90398455e-01,  6.89542368e-02, -2.00402051e-01,\n",
              "       -7.77645111e-01, -4.56595480e-01, -2.12552428e-01, -5.58262408e-01,\n",
              "       -3.43980610e-01,  2.74059445e-01,  5.78915477e-02, -4.94238883e-01,\n",
              "        1.05730891e+00, -9.70214307e-02,  8.59945118e-02,  2.27669859e+00,\n",
              "        1.93625242e-01, -3.34333181e-01,  3.02552760e-01,  3.14233571e-01,\n",
              "       -6.46616280e-01,  2.31464982e-01,  3.39613646e-01,  1.01438055e+01,\n",
              "        2.00304723e+00,  3.96680206e-01, -8.06530237e-01,  4.38990951e-01,\n",
              "        1.80545628e-01, -3.72704893e-01, -3.85095477e-01, -9.06361580e-01,\n",
              "       -3.50477129e-01, -7.94598758e-01,  9.98790443e-01,  9.85723555e-01,\n",
              "        7.39537656e-01,  2.51225829e-02,  1.24341764e-01, -2.84668148e-01,\n",
              "       -1.60876977e+00, -4.09623742e-01,  2.15249985e-01, -1.00547922e+00,\n",
              "        1.38453591e+00,  4.12052453e-01, -7.64292657e-01,  6.50802910e-01,\n",
              "        1.76834911e-01, -8.95895898e-01,  1.34023502e-02,  9.66677666e-01,\n",
              "       -5.66019863e-02,  6.19104207e-01,  3.97210196e-02,  1.84372291e-01,\n",
              "        5.71863353e-01,  8.60809758e-02, -3.37054402e-01, -2.24615550e+00,\n",
              "        7.66767025e-01,  9.92800057e-01,  4.24168073e-02, -8.16824555e-01,\n",
              "        1.12568647e-01,  6.39262617e-01,  6.21539354e-01, -3.02738547e-01,\n",
              "        1.99502438e-01,  3.74858052e-01, -1.67958364e-02, -2.34535050e+00,\n",
              "        6.97224617e-01,  1.42997921e+00,  8.74282271e-02,  1.21734321e-01,\n",
              "       -6.02225482e-01, -1.73621207e-01, -6.60387933e-01, -1.40509099e-01,\n",
              "       -2.09342688e-01, -5.88617504e-01, -6.70827568e-01, -5.93021631e-01,\n",
              "       -2.45849669e-01,  2.14986503e-01, -8.40286493e-01,  2.21457422e-01,\n",
              "       -1.03872311e+00, -2.28653505e-01, -2.71845984e+00,  5.19019008e-01,\n",
              "        3.79769087e-01,  7.46668652e-02,  1.34481490e-01, -1.06568503e+00,\n",
              "        1.41047883e+00, -6.03933752e-01,  2.47010455e-01,  2.95470119e-01,\n",
              "       -4.76486295e-01,  3.21341217e-01,  1.57391584e+00,  2.18618736e-02,\n",
              "       -1.90378755e-01, -4.66398358e-01,  1.62703657e+00,  1.83965772e-01,\n",
              "        1.25238553e-01, -2.59695619e-01, -9.34771180e-01, -5.27251437e-02,\n",
              "       -8.04897666e-01, -5.89516819e-01, -2.06569433e-01,  6.88546717e-01,\n",
              "        1.94950438e+00,  7.77397633e-01, -2.27402493e-01, -2.07651496e-01,\n",
              "        5.02362251e-01, -4.41632867e-01, -6.14107966e-01, -3.93448830e-01,\n",
              "       -6.53055310e-01, -1.23307910e-02,  7.09971666e-01, -1.04650557e+00,\n",
              "       -1.42193198e-01, -1.40082479e-01, -4.92645800e-02, -3.48062366e-01,\n",
              "       -3.62282068e-01,  9.07092690e-01, -7.91741669e-01, -2.06850275e-01,\n",
              "        1.22029535e-01, -4.56082672e-02, -2.21171737e-01, -1.22152537e-01,\n",
              "        2.72352815e-01,  4.47916865e-01,  3.12524587e-02,  1.22158849e+00,\n",
              "       -2.31201887e-01,  1.40387177e-01,  1.75715089e-02, -2.44931355e-01,\n",
              "       -6.29495978e-01, -4.97611344e-01, -1.20963478e+00, -2.02974916e-01,\n",
              "       -5.02969027e-01, -2.27529675e-01,  5.09087205e-01,  2.39396647e-01,\n",
              "       -1.25292134e+00, -7.71325529e-01,  6.00945130e-02,  1.38584167e-01,\n",
              "       -1.56761646e-01,  4.00570571e-01, -8.27910602e-02, -3.44099998e-02,\n",
              "       -3.22425318e+00, -1.61398977e-01,  6.55845165e-01,  2.56862849e-01,\n",
              "       -1.39555603e-01,  4.23757911e-01, -5.03696859e-01,  5.88291764e-01,\n",
              "       -4.20933753e-01, -8.90916944e-01, -4.99186397e-01,  2.25802809e-02,\n",
              "       -1.94715694e-01,  4.12004501e-01, -9.95938256e-02,  9.00540829e-01,\n",
              "        4.76635337e-01,  5.61749399e-01,  3.55101466e-01, -3.03251982e-01,\n",
              "       -7.35456944e-01, -4.79902446e-01,  5.93360603e-01,  9.50333238e-01,\n",
              "        4.18561101e-01,  5.59725046e-01,  6.43651038e-02, -8.80189687e-02,\n",
              "        8.03983390e-01,  6.58810973e-01,  7.10912585e-01, -1.51264757e-01,\n",
              "        3.70236516e-01,  2.80536652e-01,  4.39454317e-01,  3.73278320e-01,\n",
              "        6.67704046e-02, -3.01288158e-01, -2.96106130e-01, -8.09883714e-01,\n",
              "       -5.73687077e-01, -4.06457067e-01,  4.29627895e-01,  6.64217353e-01,\n",
              "        9.96101648e-04,  2.12847069e-01,  1.21122289e+00,  3.46035957e-01,\n",
              "       -1.30709127e-01, -8.50333273e-02, -4.62745547e-01, -1.79673627e-01,\n",
              "       -5.58807068e-02,  1.05124879e+00,  1.40584514e-01,  1.26531124e+00,\n",
              "       -4.63458076e-02,  4.91327196e-01,  3.81259888e-01, -5.14251232e-01,\n",
              "        6.59616947e-01, -8.79397333e-01,  8.31496492e-02,  6.70979261e-01,\n",
              "        9.65267599e-01, -1.92985520e-01,  1.33006319e-01, -8.97989273e-02,\n",
              "        1.59014893e+00, -2.20510587e-01,  4.97087687e-01,  7.04586029e-01,\n",
              "        1.53484046e-01, -2.53438145e-01,  1.02687025e+00, -6.02065086e-01,\n",
              "        2.63014346e-01,  2.69854367e-01,  4.35414642e-01,  9.88073647e-02,\n",
              "        8.69475186e-01, -2.56368548e-01, -1.83662069e+00, -3.31858784e-01,\n",
              "       -2.98235178e-01, -4.18085456e-01,  1.64576399e+00, -3.29637021e-01,\n",
              "       -3.75459373e-01, -5.74855208e-01,  3.47525030e-02, -2.32140288e-01,\n",
              "       -5.82527339e-01,  7.24825189e-02, -8.41436684e-02,  6.51356399e-01,\n",
              "        3.40493411e-01, -4.83074129e-01, -5.53332940e-02,  2.58407623e-01,\n",
              "       -1.41222030e-01, -2.32482299e-01,  1.09913528e+00, -5.56335449e-02,\n",
              "        7.31680632e-01,  3.45865250e-01,  3.04444641e-01, -4.51726913e-01,\n",
              "       -5.75203359e-01, -1.06814153e-01, -8.22511673e-01,  1.05638683e+00,\n",
              "       -2.00469345e-01, -1.95555687e-01,  3.93411256e-02,  4.78629977e-01,\n",
              "       -1.09764367e-01, -4.06736344e-01, -2.12077409e-01, -8.51861686e-02,\n",
              "        7.19957530e-01, -2.66270712e-02, -1.05949318e+00, -4.93676990e-01,\n",
              "       -6.03750408e-01, -2.84868389e-01, -1.18544769e+00, -9.99961346e-02,\n",
              "       -7.91518465e-02,  2.57303804e-01,  2.37834737e-01,  4.24828142e-01,\n",
              "       -5.60945332e-01, -5.89197338e-01,  2.91469097e-01,  9.38257277e-02,\n",
              "        6.01282120e-01,  2.05177531e-01,  3.55396122e-01,  1.10862814e-01,\n",
              "        1.05240679e+00,  5.30780911e-01, -3.03685755e-01,  1.03861034e-01,\n",
              "       -2.41754413e-01, -1.27983347e-01,  3.07820082e-01, -1.32849884e+00,\n",
              "       -1.82982236e-01, -2.85797715e-01,  2.86139518e-01,  7.71619678e-01,\n",
              "       -1.90207064e-01,  5.80391884e-01, -8.06162000e-01, -3.93760145e-01,\n",
              "       -3.81962955e-01, -6.28418922e-02, -1.44199061e+00, -1.42906129e-01,\n",
              "       -5.51702261e-01,  1.06426024e+00, -6.79561138e-01,  1.33215618e+00,\n",
              "       -6.51196241e-02, -1.66689888e-01,  1.08669877e+00,  7.45094240e-01,\n",
              "       -3.02905321e-01, -5.59881687e-01, -5.16494632e-01, -1.63083923e+00,\n",
              "       -1.10576987e-01, -1.24626029e+00,  3.36105585e-01, -6.86387002e-01,\n",
              "        4.09031332e-01, -8.69644225e-01, -4.11269397e-01,  4.41404134e-02,\n",
              "        5.72310030e-01, -1.21756089e+00,  8.20602000e-01,  2.88875043e-01,\n",
              "        4.02847886e-01,  3.83060038e-01,  1.07445943e+00, -7.55545497e-01,\n",
              "       -6.18132770e-01,  1.77589566e-01, -3.86867881e-01, -4.92737961e+00,\n",
              "       -1.45843291e+00, -7.21137822e-01,  3.73530865e-01, -7.67366588e-02,\n",
              "        9.28751111e-01, -6.84643090e-01, -3.59998435e-01, -1.32741690e-01,\n",
              "       -3.18691373e-01, -2.05488348e+00,  8.67257789e-02,  5.46900272e-01,\n",
              "       -1.38888419e-01, -3.29466045e-01,  4.66030389e-01,  1.72242194e-01,\n",
              "        2.83309817e-01, -7.06700563e-01,  1.44991791e+00, -4.20415178e-02,\n",
              "        1.26268134e-01, -3.78706753e-01,  6.28403366e-01,  6.26042724e-01,\n",
              "        1.01472390e+00, -1.25328481e+00, -1.14971653e-01,  6.62736297e-01,\n",
              "        1.61233199e+00, -4.72906560e-01, -2.89923668e-01,  8.30474347e-02,\n",
              "       -9.46431309e-02, -7.68666029e-01,  4.18287754e-01,  5.93876958e-01,\n",
              "        1.66865796e-01,  2.30820119e-01, -1.54222429e+00,  1.00384116e+00,\n",
              "        1.56128287e-01, -1.05623484e+00,  6.98433340e-01,  9.53530729e-01,\n",
              "        3.08403820e-01, -9.45398957e-02,  2.11667016e-01,  4.39081579e-01,\n",
              "       -7.91084468e-01,  1.01935732e+00, -1.13242316e+00,  2.16488242e-01,\n",
              "       -5.57269156e-01, -3.71322989e-01, -1.24049503e-02,  2.86236316e-01,\n",
              "       -5.81507906e-02, -1.75277516e-01,  5.36736250e-01,  9.19853002e-02,\n",
              "        1.50491512e+00,  4.83583421e-01,  1.03700414e-01, -7.22227573e-01,\n",
              "       -1.04534477e-01,  4.51037586e-02, -1.27666071e-01,  4.57102656e-02,\n",
              "        2.33140245e-01, -1.31082803e-01,  3.46400470e-01, -1.60082996e-01,\n",
              "       -2.87132263e-02,  1.85624123e-01, -1.51233304e+00,  5.22523165e-01,\n",
              "        5.05723774e-01, -2.24445567e-01,  9.58959609e-02, -1.71566650e-01,\n",
              "       -2.82881826e-01, -9.63357687e-01, -1.75280988e-01, -6.37178421e-01,\n",
              "        5.60143948e-01, -4.35842842e-01, -5.91869831e-01,  5.50947368e-01,\n",
              "       -2.45515794e-01, -4.51164097e-01, -5.96509933e-01, -2.53421739e-02,\n",
              "       -3.30365837e-01, -1.86064929e-01, -1.12490940e+00, -1.38849282e+00,\n",
              "        1.59584135e-01, -2.98909217e-01,  3.81396723e+00, -1.36794709e-03,\n",
              "        5.25686860e-01,  7.66463280e-01,  1.23310015e-01, -1.52458870e+00,\n",
              "        9.06624734e-01,  1.81486130e-01, -1.67509627e+00, -2.76485264e-01,\n",
              "        1.75381862e-02, -6.67322576e-01, -6.27154648e-01,  2.54497021e-01,\n",
              "       -3.27322185e-01,  7.40916580e-02,  5.43182313e-01,  6.35769308e-01,\n",
              "        3.87096137e-01, -1.33340514e+00,  8.37171555e-01, -5.46411574e-01,\n",
              "        1.89718679e-01, -3.16829920e-01,  4.16358896e-02,  2.66567051e-01,\n",
              "       -5.49118876e-01, -2.55362809e-01,  2.61770859e-02,  3.67422760e-01,\n",
              "       -7.63022006e-02,  1.41409278e-01,  7.10911512e-01,  1.66742414e-01,\n",
              "       -1.17583168e+00,  8.58279586e-01, -1.46866992e-01, -5.61734796e-01,\n",
              "       -1.49505138e+00, -1.86251193e-01,  1.07185709e+00, -2.40311205e-01,\n",
              "       -4.84894454e-01, -1.64642262e+00, -4.40207899e-01, -3.43995765e-02,\n",
              "        4.79368269e-01,  4.42923903e-02, -5.54857135e-01, -1.82010770e-01,\n",
              "       -7.00954795e-01,  3.61248225e-01, -5.64095914e-01,  5.67835644e-02,\n",
              "        4.39357519e-01, -8.07481527e-01,  3.96893114e-01,  3.51251274e-01,\n",
              "        8.72707218e-02, -5.46408668e-02, -2.68090546e-01, -4.26641047e-01,\n",
              "        9.60237503e-01, -3.10672373e-01, -1.11287439e+00, -3.14558446e-01,\n",
              "        5.41755408e-02,  5.80757797e-01, -8.52002203e-01,  1.80394739e-01,\n",
              "        2.95402944e-01,  2.01491863e-01, -2.23820835e-01, -6.06077552e-01,\n",
              "       -1.51506257e+00, -3.13916087e-01,  1.44103289e+00, -8.30114260e-02,\n",
              "       -6.51311427e-02, -5.63256979e-01,  5.93117833e-01,  4.00528580e-01,\n",
              "       -4.79774445e-01,  3.26452821e-01,  6.54554844e-01, -2.41762549e-02,\n",
              "       -7.06741512e-01, -1.26773387e-01, -4.63437945e-01,  2.99270749e-01,\n",
              "       -4.17358756e-01,  9.37782347e-01,  7.44002759e-01,  1.11587778e-01,\n",
              "        4.11273807e-01, -3.97479653e-01,  4.86016005e-01,  3.82755548e-01,\n",
              "        9.99141276e-01,  5.26292682e-01, -3.36077273e-01, -2.93147683e-01,\n",
              "       -2.48749554e-03, -2.24464774e-01, -2.54991472e-01,  3.63014698e-01,\n",
              "        4.88728493e-01, -1.52067482e-01,  9.99291599e-01,  5.01842141e-01,\n",
              "       -1.24435171e-01, -3.98999155e-02, -5.84414482e-01, -1.80443481e-01,\n",
              "        5.16727865e-01,  4.45012748e-03, -4.76148665e-01,  6.31199852e-02,\n",
              "       -3.19342911e-01,  8.61035764e-01, -7.75336444e-01,  4.91517037e-01,\n",
              "        5.99033952e-01, -2.65006244e-01,  1.43550050e+00,  5.73683865e-02,\n",
              "       -2.76605308e-01, -3.56789142e-01,  7.13684320e-01,  4.26980376e-01,\n",
              "        1.24036044e-01,  1.31807983e-01, -1.60010889e-01,  2.10210934e-01,\n",
              "       -9.66507867e-02, -6.98747754e-01,  2.38871872e-01, -3.21448088e-01,\n",
              "        1.22053385e-01, -1.29199541e+00, -3.09706062e-01,  1.05144039e-01,\n",
              "        1.54229581e-01,  1.08984008e-01,  1.78218043e+00, -4.04120564e-01,\n",
              "        9.05470014e-01,  1.35951161e-01, -2.45227158e-01,  2.76926100e-01,\n",
              "        3.66225541e-02, -2.60430336e-01,  8.17504585e-01,  2.68283784e-01,\n",
              "        2.56043822e-01, -2.03173801e-01,  2.70449162e-01, -2.87775159e-01,\n",
              "        1.82417274e-01, -1.41297624e-01, -9.43502426e-01, -1.69715375e-01,\n",
              "       -8.84399295e-01, -7.34254539e-01,  8.89190376e-01, -6.16457999e-01,\n",
              "        1.06795108e+00, -1.16727304e+00,  6.82646155e-01,  4.08897221e-01,\n",
              "        8.13857675e-01,  7.70036340e-01,  3.64830285e-01, -5.75383753e-03,\n",
              "        7.73684621e-01, -9.92579609e-02, -3.17367136e-01, -7.71118760e-01,\n",
              "       -6.45820737e-01, -1.13555171e-01,  9.38840985e-01,  9.19918299e-01,\n",
              "       -1.74398601e-01, -2.68009454e-02, -2.80458868e-01, -8.61422300e-01,\n",
              "       -6.95920289e-02, -9.67139721e-01, -7.60809422e-01, -3.28832030e-01,\n",
              "        2.49633431e-01, -7.87613094e-01, -1.64566383e-01, -2.04774737e-02,\n",
              "       -4.38184917e-01, -5.01420081e-01,  4.59289253e-02,  3.02873343e-01,\n",
              "        4.03009742e-01, -2.14521599e+00,  1.41738743e-01,  9.02031660e-02,\n",
              "       -3.78953695e-01, -9.98830140e-01,  3.61341745e-01, -6.56354129e-01,\n",
              "       -1.10718441e+00,  1.85679197e-01, -3.64961922e-01,  2.99435675e-01,\n",
              "        4.45554078e-01, -2.22731739e-01, -8.22697580e-01, -7.84027696e-01,\n",
              "        2.29601339e-02,  2.05411911e-01, -1.66499496e-01, -1.03882670e+00,\n",
              "        1.07740588e-01, -1.40174180e-02,  6.82252765e-01, -5.78770101e-01,\n",
              "       -7.59218931e-01, -1.37318909e-01,  2.31761709e-01,  9.74676490e-01,\n",
              "       -5.03447711e-01,  1.82834834e-01, -5.12817264e-01,  3.32058758e-01,\n",
              "        2.41062179e-01, -1.05734324e+00, -5.93285799e-01,  6.96660519e-01,\n",
              "       -4.85102117e-01, -2.29176307e+00,  3.64788622e-01,  1.04841125e+00,\n",
              "        4.09641385e-01, -6.17686987e-01,  1.21254849e+00,  8.84131014e-01,\n",
              "       -1.68444276e-01,  2.09664434e-01, -7.31221259e-01,  1.47196740e-01,\n",
              "        7.36294866e-01, -1.28060579e-03,  1.41161606e-01, -3.82299185e-01,\n",
              "       -2.14502931e-01,  1.39188075e+00, -8.07104856e-02,  6.67765498e-01,\n",
              "        3.31121826e+00,  4.19665873e-01,  6.88844740e-01,  3.94369066e-01,\n",
              "        1.43220469e-01,  2.18060285e-01, -1.41468084e+00, -3.55839729e-01,\n",
              "       -5.45580029e-01, -2.08017230e-01, -1.01970732e-02, -4.83421117e-01,\n",
              "        1.27766013e-01,  3.53837788e-01, -4.37141836e-01, -2.86604404e-01,\n",
              "        1.48326802e+00,  1.78103983e-01,  6.80992424e-01,  6.55318856e-01,\n",
              "       -5.87863922e-01, -6.70046747e-01, -9.14904118e-01,  2.03634918e-01,\n",
              "       -8.90430659e-02, -5.41369915e-01,  2.30531961e-01, -3.72658789e-01,\n",
              "        9.21000898e-01,  2.56416172e-01,  2.16004372e-01, -3.35217029e-01],\n",
              "      dtype=float32)"
            ]
          },
          "metadata": {},
          "execution_count": 33
        }
      ]
    },
    {
      "cell_type": "code",
      "source": [
        "len(h)"
      ],
      "metadata": {
        "colab": {
          "base_uri": "https://localhost:8080/"
        },
        "id": "g3HkOXniVyMA",
        "outputId": "fe838ed6-b197-44ac-9eda-c5929be82408"
      },
      "execution_count": null,
      "outputs": [
        {
          "output_type": "execute_result",
          "data": {
            "text/plain": [
              "768"
            ]
          },
          "metadata": {},
          "execution_count": 34
        }
      ]
    }
  ]
}